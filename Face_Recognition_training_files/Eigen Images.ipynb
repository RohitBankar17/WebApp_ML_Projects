{
 "cells": [
  {
   "cell_type": "code",
   "execution_count": 40,
   "id": "264fd1fa",
   "metadata": {},
   "outputs": [],
   "source": [
    "import numpy as np\n",
    "import pandas as pd"
   ]
  },
  {
   "cell_type": "code",
   "execution_count": 41,
   "id": "ff98380f",
   "metadata": {},
   "outputs": [],
   "source": [
    "import matplotlib.pyplot as plt\n",
    "%matplotlib inline\n",
    "from PIL import Image\n",
    "from glob import glob"
   ]
  },
  {
   "cell_type": "code",
   "execution_count": 42,
   "id": "adfabbf8",
   "metadata": {},
   "outputs": [],
   "source": [
    "data=np.load('./data/data_100_100.npz')"
   ]
  },
  {
   "cell_type": "code",
   "execution_count": 43,
   "id": "194aefef",
   "metadata": {},
   "outputs": [
    {
     "data": {
      "text/plain": [
       "['arr_0', 'arr_1']"
      ]
     },
     "execution_count": 43,
     "metadata": {},
     "output_type": "execute_result"
    }
   ],
   "source": [
    "data.files"
   ]
  },
  {
   "cell_type": "code",
   "execution_count": 44,
   "id": "66a61408",
   "metadata": {},
   "outputs": [],
   "source": [
    "X=data['arr_0'] # Independent Features\n",
    "y=data['arr_1'] # Depemdemt Variables"
   ]
  },
  {
   "cell_type": "code",
   "execution_count": 45,
   "id": "518a0a25",
   "metadata": {},
   "outputs": [
    {
     "data": {
      "text/plain": [
       "(1662, 10000)"
      ]
     },
     "execution_count": 45,
     "metadata": {},
     "output_type": "execute_result"
    }
   ],
   "source": [
    "X.shape"
   ]
  },
  {
   "cell_type": "code",
   "execution_count": 46,
   "id": "c7f8fc1c",
   "metadata": {},
   "outputs": [
    {
     "data": {
      "text/plain": [
       "(1662,)"
      ]
     },
     "execution_count": 46,
     "metadata": {},
     "output_type": "execute_result"
    }
   ],
   "source": [
    "y.shape"
   ]
  },
  {
   "cell_type": "code",
   "execution_count": 47,
   "id": "27ffacc3",
   "metadata": {},
   "outputs": [],
   "source": [
    "#EIGEN IMAGE\n",
    "X1=X-X.mean(axis=0)"
   ]
  },
  {
   "cell_type": "code",
   "execution_count": 48,
   "id": "d32dc1b0",
   "metadata": {},
   "outputs": [
    {
     "data": {
      "text/plain": [
       "array([[ 0.40107595,  0.4093792 ,  0.41625729, ...,  0.28347609,\n",
       "         0.31346358,  0.36901678],\n",
       "       [ 0.2834289 ,  0.23683018,  0.20841415, ..., -0.14397489,\n",
       "        -0.16496779, -0.17608126],\n",
       "       [-0.0302966 ,  0.07604587,  0.1142965 , ..., -0.06946509,\n",
       "        -0.09045799, -0.1094146 ],\n",
       "       ...,\n",
       "       [-0.24990444, -0.30042472, -0.28178193, ...,  0.15798589,\n",
       "         0.15660084,  0.1533305 ],\n",
       "       [ 0.46382105,  0.4721243 ,  0.47900238, ..., -0.29691607,\n",
       "        -0.29830113, -0.27804205],\n",
       "       [ 0.51087988,  0.51918312,  0.52998278, ...,  0.58543687,\n",
       "         0.58405182,  0.58078148]])"
      ]
     },
     "execution_count": 48,
     "metadata": {},
     "output_type": "execute_result"
    }
   ],
   "source": [
    "X1"
   ]
  },
  {
   "cell_type": "code",
   "execution_count": 49,
   "id": "e11b4397",
   "metadata": {},
   "outputs": [
    {
     "data": {
      "text/plain": [
       "array([[0.85098039, 0.85098039, 0.85098039, ..., 0.67058824, 0.70196078,\n",
       "        0.76078431],\n",
       "       [0.73333333, 0.67843137, 0.64313725, ..., 0.24313725, 0.22352941,\n",
       "        0.21568627],\n",
       "       [0.41960784, 0.51764706, 0.54901961, ..., 0.31764706, 0.29803922,\n",
       "        0.28235294],\n",
       "       ...,\n",
       "       [0.2       , 0.14117647, 0.15294118, ..., 0.54509804, 0.54509804,\n",
       "        0.54509804],\n",
       "       [0.91372549, 0.91372549, 0.91372549, ..., 0.09019608, 0.09019608,\n",
       "        0.11372549],\n",
       "       [0.96078431, 0.96078431, 0.96470588, ..., 0.97254902, 0.97254902,\n",
       "        0.97254902]])"
      ]
     },
     "execution_count": 49,
     "metadata": {},
     "output_type": "execute_result"
    }
   ],
   "source": [
    "X"
   ]
  },
  {
   "cell_type": "code",
   "execution_count": 66,
   "id": "5875cb4e",
   "metadata": {},
   "outputs": [],
   "source": [
    "from sklearn.decomposition import PCA"
   ]
  },
  {
   "cell_type": "code",
   "execution_count": 67,
   "id": "325371bc",
   "metadata": {},
   "outputs": [],
   "source": [
    "pca=PCA(n_components=None,whiten=True,svd_solver='auto')"
   ]
  },
  {
   "cell_type": "code",
   "execution_count": 68,
   "id": "4872cc30",
   "metadata": {},
   "outputs": [],
   "source": [
    "x_pca=pca.fit_transform(X1)"
   ]
  },
  {
   "cell_type": "code",
   "execution_count": 69,
   "id": "98fb66e4",
   "metadata": {},
   "outputs": [
    {
     "data": {
      "text/plain": [
       "(1662, 1662)"
      ]
     },
     "execution_count": 69,
     "metadata": {},
     "output_type": "execute_result"
    }
   ],
   "source": [
    "x_pca.shape"
   ]
  },
  {
   "cell_type": "code",
   "execution_count": 70,
   "id": "73aa1bee",
   "metadata": {},
   "outputs": [],
   "source": [
    "eigen_ratio=pca.explained_variance_ratio_\n",
    "eigen_ratio_cum=np.cumsum(eigen_ratio)"
   ]
  },
  {
   "cell_type": "code",
   "execution_count": 71,
   "id": "6c37a915",
   "metadata": {},
   "outputs": [
    {
     "data": {
      "text/plain": [
       "[<matplotlib.lines.Line2D at 0x15b3b017e20>]"
      ]
     },
     "execution_count": 71,
     "metadata": {},
     "output_type": "execute_result"
    },
    {
     "data": {
      "image/png": "[encoded data removed]",
      "text/plain": [
       "<Figure size 720x432 with 2 Axes>"
      ]
     },
     "metadata": {
      "needs_background": "light"
     },
     "output_type": "display_data"
    }
   ],
   "source": [
    "plt.figure(figsize=(10,6))\n",
    "plt.subplot(1,2,1)\n",
    "plt.plot(eigen_ratio[:200],'r>--')\n",
    "plt.xlabel('no.of components')\n",
    "plt.ylabel('Explained variance ratio')\n",
    "plt.subplot(1,2,2)\n",
    "\n",
    "plt.xlabel('no.of components')\n",
    "plt.ylabel('Cumulative Explained variance ratio')\n",
    "plt.plot(eigen_ratio_cum[:200],'r>--')\n"
   ]
  },
  {
   "cell_type": "code",
   "execution_count": 72,
   "id": "5b13e795",
   "metadata": {},
   "outputs": [],
   "source": [
    "# This tells us that by selecting 50 components we can retain 80 percent variance in data\n",
    "# in real world variance is selected near 75-80 percent"
   ]
  },
  {
   "cell_type": "code",
   "execution_count": 73,
   "id": "6d1e4334",
   "metadata": {},
   "outputs": [],
   "source": [
    "# Conclusioin: This is known as elbow method to find number of useful components\n",
    "# Since if 23 consider components between 25-30 then the explained variance is about 75 percent\n",
    "# So in order to get minimum 80 percent varince we are considering 50 components"
   ]
  },
  {
   "cell_type": "code",
   "execution_count": 74,
   "id": "e94f9890",
   "metadata": {},
   "outputs": [],
   "source": [
    "pca_50=PCA(n_components=50,whiten=True,svd_solver='auto')\n",
    "x_pca_50=pca_50.fit_transform(X1)"
   ]
  },
  {
   "cell_type": "code",
   "execution_count": 75,
   "id": "bee6eb01",
   "metadata": {},
   "outputs": [
    {
     "data": {
      "text/plain": [
       "(1662, 50)"
      ]
     },
     "execution_count": 75,
     "metadata": {},
     "output_type": "execute_result"
    }
   ],
   "source": [
    "x_pca_50.shape"
   ]
  },
  {
   "cell_type": "code",
   "execution_count": 60,
   "id": "ca01e27b",
   "metadata": {},
   "outputs": [],
   "source": [
    "# 10000 to 50 its Principal components"
   ]
  },
  {
   "cell_type": "code",
   "execution_count": 61,
   "id": "04c576df",
   "metadata": {},
   "outputs": [],
   "source": [
    "# saving pca"
   ]
  },
  {
   "cell_type": "code",
   "execution_count": 76,
   "id": "9308b30a",
   "metadata": {},
   "outputs": [],
   "source": [
    "import pickle"
   ]
  },
  {
   "cell_type": "code",
   "execution_count": 77,
   "id": "462df146",
   "metadata": {},
   "outputs": [],
   "source": [
    "pickle.dump(pca_50,open('./model/1pca_50.pickle','wb'))"
   ]
  },
  {
   "cell_type": "code",
   "execution_count": 78,
   "id": "fffdef80",
   "metadata": {},
   "outputs": [],
   "source": [
    "#considering 50 components and inverse transforming it\n",
    "x_pca_inv=pca_50.inverse_transform(x_pca_50)"
   ]
  },
  {
   "cell_type": "code",
   "execution_count": null,
   "id": "8f7f6acd",
   "metadata": {},
   "outputs": [],
   "source": [
    "pca_50.transform"
   ]
  },
  {
   "cell_type": "code",
   "execution_count": 79,
   "id": "6d806486",
   "metadata": {},
   "outputs": [
    {
     "data": {
      "text/plain": [
       "(1662, 10000)"
      ]
     },
     "execution_count": 79,
     "metadata": {},
     "output_type": "execute_result"
    }
   ],
   "source": [
    "x_pca_inv.shape"
   ]
  },
  {
   "cell_type": "code",
   "execution_count": 80,
   "id": "b4ede55e",
   "metadata": {},
   "outputs": [
    {
     "data": {
      "text/plain": [
       "<matplotlib.image.AxesImage at 0x15b3b127c70>"
      ]
     },
     "execution_count": 80,
     "metadata": {},
     "output_type": "execute_result"
    },
    {
     "data": {
      "image/png": "[encoded data removed]",
      "text/plain": [
       "<Figure size 432x288 with 1 Axes>"
      ]
     },
     "metadata": {
      "needs_background": "light"
     },
     "output_type": "display_data"
    }
   ],
   "source": [
    "eig_image=x_pca_inv[0,:]\n",
    "eig_image=eig_image.reshape((100,100))\n",
    "plt.imshow(eig_image,cmap='gray')"
   ]
  },
  {
   "cell_type": "code",
   "execution_count": 81,
   "id": "90356db6",
   "metadata": {},
   "outputs": [],
   "source": [
    "#saving\n",
    "np.savez('./data/data_pca_50_y_mean.pickle',x_pca_50,y,X.mean())"
   ]
  },
  {
   "cell_type": "code",
   "execution_count": null,
   "id": "0eca0303",
   "metadata": {},
   "outputs": [],
   "source": []
  }
 ],
 "metadata": {
  "kernelspec": {
   "display_name": "Python 3.7.3 64-bit ('base': conda)",
   "language": "python",
   "name": "python37364bitbaseconda971ba31e63c548448c452f11cdbbc5de"
  },
  "language_info": {
   "codemirror_mode": {
    "name": "ipython",
    "version": 3
   },
   "file_extension": ".py",
   "mimetype": "text/x-python",
   "name": "python",
   "nbconvert_exporter": "python",
   "pygments_lexer": "ipython3",
   "version": "3.8.3"
  }
 },
 "nbformat": 4,
 "nbformat_minor": 5
}
