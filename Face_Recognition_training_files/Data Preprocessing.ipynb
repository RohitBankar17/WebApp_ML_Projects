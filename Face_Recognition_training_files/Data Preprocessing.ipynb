{
 "cells": [
  {
   "cell_type": "code",
   "execution_count": 1,
   "id": "779bc4f5",
   "metadata": {},
   "outputs": [],
   "source": [
    "import numpy as np\n",
    "import pandas as pd\n",
    "import matplotlib.pyplot as plt\n",
    "import cv2\n",
    "from PIL import Image\n",
    "%matplotlib inline"
   ]
  },
  {
   "cell_type": "code",
   "execution_count": 2,
   "id": "f1cfadec",
   "metadata": {},
   "outputs": [],
   "source": [
    "import pickle"
   ]
  },
  {
   "cell_type": "code",
   "execution_count": 7,
   "id": "0d067d28",
   "metadata": {},
   "outputs": [
    {
     "name": "stdout",
     "output_type": "stream",
     "text": [
      " Volume in drive D is DATA\n",
      " Volume Serial Number is FAA9-24C8\n",
      "\n",
      " Directory of D:\\FaceRecognition\\data\n",
      "\n",
      "19-05-2021  16:36    <DIR>          .\n",
      "19-05-2021  16:36    <DIR>          ..\n",
      "19-05-2021  15:34    <DIR>          crop\n",
      "19-05-2021  16:36        16,707,345 dataframe_image_100x100.pickle\n",
      "19-05-2021  14:59    <DIR>          men\n",
      "19-05-2021  14:59    <DIR>          women\n",
      "               1 File(s)     16,707,345 bytes\n",
      "               5 Dir(s)  290,913,140,736 bytes free\n"
     ]
    }
   ],
   "source": [
    "ls data"
   ]
  },
  {
   "cell_type": "code",
   "execution_count": 8,
   "id": "c1855b9e",
   "metadata": {},
   "outputs": [],
   "source": [
    "df=pickle.load(open('./data/dataframe_image_100x100.pickle','rb'))"
   ]
  },
  {
   "cell_type": "code",
   "execution_count": 9,
   "id": "ffa75776",
   "metadata": {},
   "outputs": [
    {
     "data": {
      "text/html": [
       "<div>\n",
       "<style scoped>\n",
       "    .dataframe tbody tr th:only-of-type {\n",
       "        vertical-align: middle;\n",
       "    }\n",
       "\n",
       "    .dataframe tbody tr th {\n",
       "        vertical-align: top;\n",
       "    }\n",
       "\n",
       "    .dataframe thead th {\n",
       "        text-align: right;\n",
       "    }\n",
       "</style>\n",
       "<table border=\"1\" class=\"dataframe\">\n",
       "  <thead>\n",
       "    <tr style=\"text-align: right;\">\n",
       "      <th></th>\n",
       "      <th>gender</th>\n",
       "      <th>0</th>\n",
       "      <th>1</th>\n",
       "      <th>2</th>\n",
       "      <th>3</th>\n",
       "      <th>4</th>\n",
       "      <th>5</th>\n",
       "      <th>6</th>\n",
       "      <th>7</th>\n",
       "      <th>8</th>\n",
       "      <th>...</th>\n",
       "      <th>9990</th>\n",
       "      <th>9991</th>\n",
       "      <th>9992</th>\n",
       "      <th>9993</th>\n",
       "      <th>9994</th>\n",
       "      <th>9995</th>\n",
       "      <th>9996</th>\n",
       "      <th>9997</th>\n",
       "      <th>9998</th>\n",
       "      <th>9999</th>\n",
       "    </tr>\n",
       "  </thead>\n",
       "  <tbody>\n",
       "    <tr>\n",
       "      <th>0</th>\n",
       "      <td>female</td>\n",
       "      <td>217</td>\n",
       "      <td>217</td>\n",
       "      <td>217</td>\n",
       "      <td>218</td>\n",
       "      <td>215</td>\n",
       "      <td>204</td>\n",
       "      <td>155</td>\n",
       "      <td>111</td>\n",
       "      <td>150</td>\n",
       "      <td>...</td>\n",
       "      <td>102</td>\n",
       "      <td>85</td>\n",
       "      <td>80</td>\n",
       "      <td>108</td>\n",
       "      <td>81</td>\n",
       "      <td>124</td>\n",
       "      <td>158</td>\n",
       "      <td>171</td>\n",
       "      <td>179</td>\n",
       "      <td>194</td>\n",
       "    </tr>\n",
       "    <tr>\n",
       "      <th>1</th>\n",
       "      <td>female</td>\n",
       "      <td>187</td>\n",
       "      <td>173</td>\n",
       "      <td>164</td>\n",
       "      <td>160</td>\n",
       "      <td>160</td>\n",
       "      <td>169</td>\n",
       "      <td>166</td>\n",
       "      <td>124</td>\n",
       "      <td>74</td>\n",
       "      <td>...</td>\n",
       "      <td>103</td>\n",
       "      <td>112</td>\n",
       "      <td>121</td>\n",
       "      <td>113</td>\n",
       "      <td>102</td>\n",
       "      <td>99</td>\n",
       "      <td>86</td>\n",
       "      <td>62</td>\n",
       "      <td>57</td>\n",
       "      <td>55</td>\n",
       "    </tr>\n",
       "    <tr>\n",
       "      <th>2</th>\n",
       "      <td>female</td>\n",
       "      <td>107</td>\n",
       "      <td>132</td>\n",
       "      <td>140</td>\n",
       "      <td>149</td>\n",
       "      <td>136</td>\n",
       "      <td>133</td>\n",
       "      <td>124</td>\n",
       "      <td>111</td>\n",
       "      <td>105</td>\n",
       "      <td>...</td>\n",
       "      <td>94</td>\n",
       "      <td>108</td>\n",
       "      <td>106</td>\n",
       "      <td>109</td>\n",
       "      <td>105</td>\n",
       "      <td>117</td>\n",
       "      <td>113</td>\n",
       "      <td>81</td>\n",
       "      <td>76</td>\n",
       "      <td>72</td>\n",
       "    </tr>\n",
       "    <tr>\n",
       "      <th>5</th>\n",
       "      <td>female</td>\n",
       "      <td>65</td>\n",
       "      <td>48</td>\n",
       "      <td>49</td>\n",
       "      <td>67</td>\n",
       "      <td>58</td>\n",
       "      <td>47</td>\n",
       "      <td>79</td>\n",
       "      <td>69</td>\n",
       "      <td>43</td>\n",
       "      <td>...</td>\n",
       "      <td>104</td>\n",
       "      <td>106</td>\n",
       "      <td>114</td>\n",
       "      <td>121</td>\n",
       "      <td>129</td>\n",
       "      <td>146</td>\n",
       "      <td>161</td>\n",
       "      <td>172</td>\n",
       "      <td>162</td>\n",
       "      <td>154</td>\n",
       "    </tr>\n",
       "    <tr>\n",
       "      <th>6</th>\n",
       "      <td>female</td>\n",
       "      <td>178</td>\n",
       "      <td>177</td>\n",
       "      <td>174</td>\n",
       "      <td>171</td>\n",
       "      <td>166</td>\n",
       "      <td>165</td>\n",
       "      <td>166</td>\n",
       "      <td>167</td>\n",
       "      <td>168</td>\n",
       "      <td>...</td>\n",
       "      <td>61</td>\n",
       "      <td>12</td>\n",
       "      <td>27</td>\n",
       "      <td>30</td>\n",
       "      <td>24</td>\n",
       "      <td>22</td>\n",
       "      <td>19</td>\n",
       "      <td>21</td>\n",
       "      <td>30</td>\n",
       "      <td>32</td>\n",
       "    </tr>\n",
       "  </tbody>\n",
       "</table>\n",
       "<p>5 rows × 10001 columns</p>\n",
       "</div>"
      ],
      "text/plain": [
       "   gender    0    1    2    3    4    5    6    7    8  ...  9990  9991  9992  \\\n",
       "0  female  217  217  217  218  215  204  155  111  150  ...   102    85    80   \n",
       "1  female  187  173  164  160  160  169  166  124   74  ...   103   112   121   \n",
       "2  female  107  132  140  149  136  133  124  111  105  ...    94   108   106   \n",
       "5  female   65   48   49   67   58   47   79   69   43  ...   104   106   114   \n",
       "6  female  178  177  174  171  166  165  166  167  168  ...    61    12    27   \n",
       "\n",
       "   9993  9994  9995  9996  9997  9998  9999  \n",
       "0   108    81   124   158   171   179   194  \n",
       "1   113   102    99    86    62    57    55  \n",
       "2   109   105   117   113    81    76    72  \n",
       "5   121   129   146   161   172   162   154  \n",
       "6    30    24    22    19    21    30    32  \n",
       "\n",
       "[5 rows x 10001 columns]"
      ]
     },
     "execution_count": 9,
     "metadata": {},
     "output_type": "execute_result"
    }
   ],
   "source": [
    "df.head()"
   ]
  },
  {
   "cell_type": "code",
   "execution_count": 10,
   "id": "a9852c65",
   "metadata": {},
   "outputs": [
    {
     "data": {
      "text/plain": [
       "(1662, 10001)"
      ]
     },
     "execution_count": 10,
     "metadata": {},
     "output_type": "execute_result"
    }
   ],
   "source": [
    "df.shape"
   ]
  },
  {
   "cell_type": "code",
   "execution_count": 11,
   "id": "1ff7ceb3",
   "metadata": {},
   "outputs": [
    {
     "name": "stdout",
     "output_type": "stream",
     "text": [
      "<class 'pandas.core.frame.DataFrame'>\n",
      "Int64Index: 1662 entries, 0 to 1825\n",
      "Columns: 10001 entries, gender to 9999\n",
      "dtypes: object(1), uint8(10000)\n",
      "memory usage: 15.9+ MB\n"
     ]
    }
   ],
   "source": [
    "df.info()"
   ]
  },
  {
   "cell_type": "code",
   "execution_count": 16,
   "id": "206d59b3",
   "metadata": {},
   "outputs": [
    {
     "data": {
      "text/plain": [
       "gender    0\n",
       "0         0\n",
       "1         0\n",
       "2         0\n",
       "3         0\n",
       "         ..\n",
       "9995      0\n",
       "9996      0\n",
       "9997      0\n",
       "9998      0\n",
       "9999      0\n",
       "Length: 10001, dtype: int64"
      ]
     },
     "execution_count": 16,
     "metadata": {},
     "output_type": "execute_result"
    }
   ],
   "source": [
    "df.isnull().sum()"
   ]
  },
  {
   "cell_type": "code",
   "execution_count": 15,
   "id": "2d9fbe04",
   "metadata": {},
   "outputs": [
    {
     "data": {
      "text/plain": [
       "0"
      ]
     },
     "execution_count": 15,
     "metadata": {},
     "output_type": "execute_result"
    }
   ],
   "source": [
    "#checking for missing values\n",
    "df.isnull().sum().sum()"
   ]
  },
  {
   "cell_type": "code",
   "execution_count": 17,
   "id": "873d239e",
   "metadata": {},
   "outputs": [],
   "source": [
    "#hence no na values"
   ]
  },
  {
   "cell_type": "code",
   "execution_count": 18,
   "id": "daf51d8a",
   "metadata": {},
   "outputs": [],
   "source": [
    "# Data Normalisation\n",
    "#Split the data into 2 parts\n",
    "X=df.iloc[:,1:].values"
   ]
  },
  {
   "cell_type": "code",
   "execution_count": 19,
   "id": "b242f0e7",
   "metadata": {},
   "outputs": [
    {
     "data": {
      "text/plain": [
       "array([[217, 217, 217, ..., 171, 179, 194],\n",
       "       [187, 173, 164, ...,  62,  57,  55],\n",
       "       [107, 132, 140, ...,  81,  76,  72],\n",
       "       ...,\n",
       "       [ 51,  36,  39, ..., 139, 139, 139],\n",
       "       [233, 233, 233, ...,  23,  23,  29],\n",
       "       [245, 245, 246, ..., 248, 248, 248]], dtype=uint8)"
      ]
     },
     "execution_count": 19,
     "metadata": {},
     "output_type": "execute_result"
    }
   ],
   "source": [
    "X"
   ]
  },
  {
   "cell_type": "code",
   "execution_count": 20,
   "id": "5c27e80f",
   "metadata": {},
   "outputs": [],
   "source": [
    "y=df.iloc[:,0].values"
   ]
  },
  {
   "cell_type": "code",
   "execution_count": 21,
   "id": "19bb844d",
   "metadata": {},
   "outputs": [
    {
     "data": {
      "text/plain": [
       "array(['female', 'female', 'female', ..., 'male', 'male', 'male'],\n",
       "      dtype=object)"
      ]
     },
     "execution_count": 21,
     "metadata": {},
     "output_type": "execute_result"
    }
   ],
   "source": [
    "y"
   ]
  },
  {
   "cell_type": "code",
   "execution_count": 22,
   "id": "8673055b",
   "metadata": {},
   "outputs": [
    {
     "data": {
      "text/plain": [
       "(1662, 10000)"
      ]
     },
     "execution_count": 22,
     "metadata": {},
     "output_type": "execute_result"
    }
   ],
   "source": [
    "X.shape"
   ]
  },
  {
   "cell_type": "code",
   "execution_count": 23,
   "id": "b10959a3",
   "metadata": {},
   "outputs": [
    {
     "data": {
      "text/plain": [
       "(1662,)"
      ]
     },
     "execution_count": 23,
     "metadata": {},
     "output_type": "execute_result"
    }
   ],
   "source": [
    "y.shape"
   ]
  },
  {
   "cell_type": "code",
   "execution_count": 30,
   "id": "96246b93",
   "metadata": {},
   "outputs": [
    {
     "data": {
      "text/plain": [
       "(0, 255)"
      ]
     },
     "execution_count": 30,
     "metadata": {},
     "output_type": "execute_result"
    }
   ],
   "source": [
    "#Min Max Scaling (Normalisation)\n",
    "X.min(),X.max()"
   ]
  },
  {
   "cell_type": "markdown",
   "id": "d3ce521d",
   "metadata": {},
   "source": [
    "Xnorm=X-minX/(maxX-minX) == (X-0)/(255-0) ==X/255"
   ]
  },
  {
   "cell_type": "code",
   "execution_count": 31,
   "id": "5995b87e",
   "metadata": {},
   "outputs": [],
   "source": [
    "Xnorm=X/X.max()"
   ]
  },
  {
   "cell_type": "code",
   "execution_count": 32,
   "id": "f54048de",
   "metadata": {},
   "outputs": [
    {
     "data": {
      "text/plain": [
       "array([[0.85098039, 0.85098039, 0.85098039, ..., 0.67058824, 0.70196078,\n",
       "        0.76078431],\n",
       "       [0.73333333, 0.67843137, 0.64313725, ..., 0.24313725, 0.22352941,\n",
       "        0.21568627],\n",
       "       [0.41960784, 0.51764706, 0.54901961, ..., 0.31764706, 0.29803922,\n",
       "        0.28235294],\n",
       "       ...,\n",
       "       [0.2       , 0.14117647, 0.15294118, ..., 0.54509804, 0.54509804,\n",
       "        0.54509804],\n",
       "       [0.91372549, 0.91372549, 0.91372549, ..., 0.09019608, 0.09019608,\n",
       "        0.11372549],\n",
       "       [0.96078431, 0.96078431, 0.96470588, ..., 0.97254902, 0.97254902,\n",
       "        0.97254902]])"
      ]
     },
     "execution_count": 32,
     "metadata": {},
     "output_type": "execute_result"
    }
   ],
   "source": [
    "Xnorm"
   ]
  },
  {
   "cell_type": "code",
   "execution_count": 33,
   "id": "b205df7d",
   "metadata": {},
   "outputs": [
    {
     "data": {
      "text/plain": [
       "(1662, 10000)"
      ]
     },
     "execution_count": 33,
     "metadata": {},
     "output_type": "execute_result"
    }
   ],
   "source": [
    "Xnorm.shape"
   ]
  },
  {
   "cell_type": "code",
   "execution_count": 34,
   "id": "77b08167",
   "metadata": {},
   "outputs": [
    {
     "data": {
      "text/plain": [
       "array(['female', 'female', 'female', ..., 'male', 'male', 'male'],\n",
       "      dtype=object)"
      ]
     },
     "execution_count": 34,
     "metadata": {},
     "output_type": "execute_result"
    }
   ],
   "source": [
    "y"
   ]
  },
  {
   "cell_type": "code",
   "execution_count": 35,
   "id": "321afeb0",
   "metadata": {},
   "outputs": [],
   "source": [
    "#Converting string to numbers\n",
    "# female=1, male =0"
   ]
  },
  {
   "cell_type": "code",
   "execution_count": 37,
   "id": "c822f362",
   "metadata": {},
   "outputs": [],
   "source": [
    "y_norm=np.where(y=='female',1,0)"
   ]
  },
  {
   "cell_type": "code",
   "execution_count": 38,
   "id": "3a36f30f",
   "metadata": {},
   "outputs": [
    {
     "data": {
      "text/plain": [
       "array([1, 1, 1, ..., 0, 0, 0])"
      ]
     },
     "execution_count": 38,
     "metadata": {},
     "output_type": "execute_result"
    }
   ],
   "source": [
    "y_norm"
   ]
  },
  {
   "cell_type": "code",
   "execution_count": 40,
   "id": "778d8ecd",
   "metadata": {},
   "outputs": [],
   "source": [
    "#Saving X and y\n",
    "np.savez('./data/data_100_100',Xnorm,y_norm)"
   ]
  },
  {
   "cell_type": "code",
   "execution_count": null,
   "id": "c6ce81b6",
   "metadata": {},
   "outputs": [],
   "source": []
  }
 ],
 "metadata": {
  "kernelspec": {
   "display_name": "Python 3.7.3 64-bit ('base': conda)",
   "language": "python",
   "name": "python37364bitbaseconda971ba31e63c548448c452f11cdbbc5de"
  },
  "language_info": {
   "codemirror_mode": {
    "name": "ipython",
    "version": 3
   },
   "file_extension": ".py",
   "mimetype": "text/x-python",
   "name": "python",
   "nbconvert_exporter": "python",
   "pygments_lexer": "ipython3",
   "version": "3.8.3"
  }
 },
 "nbformat": 4,
 "nbformat_minor": 5
}
