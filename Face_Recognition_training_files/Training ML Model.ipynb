{
 "cells": [
  {
   "cell_type": "code",
   "execution_count": 1,
   "id": "a06f150c",
   "metadata": {},
   "outputs": [],
   "source": [
    "import numpy as np\n",
    "import pandas as pd\n",
    "import matplotlib.pyplot as plt\n",
    "%matplotlib inline\n",
    "from PIL import Image\n",
    "from glob import glob"
   ]
  },
  {
   "cell_type": "code",
   "execution_count": 2,
   "id": "e9271d4b",
   "metadata": {},
   "outputs": [
    {
     "data": {
      "text/plain": [
       "['arr_0', 'arr_1', 'arr_2']"
      ]
     },
     "execution_count": 2,
     "metadata": {},
     "output_type": "execute_result"
    }
   ],
   "source": [
    "data=np.load('./data/data_pca_50_y_mean.pickle.npz')\n",
    "data.files"
   ]
  },
  {
   "cell_type": "code",
   "execution_count": 3,
   "id": "1c19c739",
   "metadata": {},
   "outputs": [],
   "source": [
    "X=data['arr_0']\n",
    "y=data['arr_1']\n",
    "mean=data['arr_2']"
   ]
  },
  {
   "cell_type": "code",
   "execution_count": 21,
   "id": "49735588",
   "metadata": {},
   "outputs": [
    {
     "data": {
      "text/plain": [
       "array([1, 1, 1, ..., 0, 0, 0])"
      ]
     },
     "execution_count": 21,
     "metadata": {},
     "output_type": "execute_result"
    }
   ],
   "source": [
    "y"
   ]
  },
  {
   "cell_type": "code",
   "execution_count": 4,
   "id": "8fd824ca",
   "metadata": {},
   "outputs": [],
   "source": [
    "from sklearn.model_selection import train_test_split\n",
    "x_train,x_test,y_train,y_test=train_test_split(X,y,test_size=0.2,stratify=y)"
   ]
  },
  {
   "cell_type": "code",
   "execution_count": 5,
   "id": "c1a4eb67",
   "metadata": {},
   "outputs": [
    {
     "data": {
      "text/plain": [
       "((1329, 50), (1329,))"
      ]
     },
     "execution_count": 5,
     "metadata": {},
     "output_type": "execute_result"
    }
   ],
   "source": [
    "x_train.shape,y_train.shape"
   ]
  },
  {
   "cell_type": "code",
   "execution_count": 6,
   "id": "2efe6e1d",
   "metadata": {},
   "outputs": [
    {
     "data": {
      "text/plain": [
       "((333, 50), (333,))"
      ]
     },
     "execution_count": 6,
     "metadata": {},
     "output_type": "execute_result"
    }
   ],
   "source": [
    "x_test.shape,y_test.shape"
   ]
  },
  {
   "cell_type": "code",
   "execution_count": 7,
   "id": "0ef57e54",
   "metadata": {},
   "outputs": [],
   "source": [
    "# Using SVM(Support Vector Machine)\n",
    "# Trainig ML model"
   ]
  },
  {
   "cell_type": "code",
   "execution_count": 8,
   "id": "366ca314",
   "metadata": {},
   "outputs": [],
   "source": [
    "from sklearn.svm import SVC"
   ]
  },
  {
   "cell_type": "code",
   "execution_count": 17,
   "id": "5cb1ced2",
   "metadata": {},
   "outputs": [],
   "source": [
    "model=SVC(C=1.0,kernel='rbf',gamma=0.01,probability=True)"
   ]
  },
  {
   "cell_type": "code",
   "execution_count": 18,
   "id": "d774b53c",
   "metadata": {},
   "outputs": [
    {
     "data": {
      "text/plain": [
       "SVC(gamma=0.01, probability=True)"
      ]
     },
     "execution_count": 18,
     "metadata": {},
     "output_type": "execute_result"
    }
   ],
   "source": [
    "model.fit(x_train,y_train)"
   ]
  },
  {
   "cell_type": "code",
   "execution_count": 19,
   "id": "2ae0fc3d",
   "metadata": {},
   "outputs": [
    {
     "data": {
      "text/plain": [
       "0.8893905191873589"
      ]
     },
     "execution_count": 19,
     "metadata": {},
     "output_type": "execute_result"
    }
   ],
   "source": [
    "# Score for training and test data\n",
    "model.score(x_train,y_train)"
   ]
  },
  {
   "cell_type": "code",
   "execution_count": 20,
   "id": "01944958",
   "metadata": {},
   "outputs": [
    {
     "data": {
      "text/plain": [
       "0.8108108108108109"
      ]
     },
     "execution_count": 20,
     "metadata": {},
     "output_type": "execute_result"
    }
   ],
   "source": [
    "model.score(x_test,y_test)"
   ]
  },
  {
   "cell_type": "code",
   "execution_count": 15,
   "id": "c2eae7fa",
   "metadata": {},
   "outputs": [],
   "source": [
    "## Model Evaluation\n"
   ]
  },
  {
   "cell_type": "code",
   "execution_count": 16,
   "id": "deafdf60",
   "metadata": {},
   "outputs": [],
   "source": [
    "#Confusion Matrix,Classification report,Kappa Score,ROC and AUC(Probability)"
   ]
  },
  {
   "cell_type": "code",
   "execution_count": 22,
   "id": "2090c904",
   "metadata": {},
   "outputs": [],
   "source": [
    "from sklearn import metrics"
   ]
  },
  {
   "cell_type": "code",
   "execution_count": 23,
   "id": "e788a178",
   "metadata": {},
   "outputs": [],
   "source": [
    "y_pred=model.predict(x_test)\n",
    "y_prob=model.predict_proba(x_test) #probability"
   ]
  },
  {
   "cell_type": "code",
   "execution_count": 24,
   "id": "2ec540e6",
   "metadata": {},
   "outputs": [],
   "source": [
    "cm=metrics.confusion_matrix(y_test,y_pred)"
   ]
  },
  {
   "cell_type": "code",
   "execution_count": 25,
   "id": "48af2c44",
   "metadata": {},
   "outputs": [
    {
     "data": {
      "text/plain": [
       "array([[ 97,  34],\n",
       "       [ 29, 173]], dtype=int64)"
      ]
     },
     "execution_count": 25,
     "metadata": {},
     "output_type": "execute_result"
    }
   ],
   "source": [
    "cm"
   ]
  },
  {
   "cell_type": "code",
   "execution_count": 27,
   "id": "ceb6a62f",
   "metadata": {},
   "outputs": [
    {
     "data": {
      "text/plain": [
       "array([[ 97,  34],\n",
       "       [ 29, 173],\n",
       "       [126, 207]], dtype=int64)"
      ]
     },
     "execution_count": 27,
     "metadata": {},
     "output_type": "execute_result"
    }
   ],
   "source": [
    "cm=np.concatenate((cm,cm.sum(axis=0).reshape(1,-1)),axis=0)\n",
    "cm"
   ]
  },
  {
   "cell_type": "code",
   "execution_count": 28,
   "id": "3686e22e",
   "metadata": {},
   "outputs": [
    {
     "data": {
      "text/plain": [
       "array([[ 97,  34, 131],\n",
       "       [ 29, 173, 202],\n",
       "       [126, 207, 333]], dtype=int64)"
      ]
     },
     "execution_count": 28,
     "metadata": {},
     "output_type": "execute_result"
    }
   ],
   "source": [
    "cm=np.concatenate((cm,cm.sum(axis=1).reshape(-1,1)),axis=1)\n",
    "cm"
   ]
  },
  {
   "cell_type": "code",
   "execution_count": 34,
   "id": "1d66072f",
   "metadata": {},
   "outputs": [
    {
     "data": {
      "image/png": "[encoded data removed]",
      "text/plain": [
       "<Figure size 432x288 with 1 Axes>"
      ]
     },
     "metadata": {
      "needs_background": "light"
     },
     "output_type": "display_data"
    }
   ],
   "source": [
    "plt.imshow(cm)\n",
    "for i in range(3):\n",
    "    for j in range(3):\n",
    "        plt.text(i,j,cm[i,j])\n",
    "        \n",
    "plt.xticks([0,1])\n",
    "plt.yticks([0,1])\n",
    "plt.xlabel('The predicted values')\n",
    "plt.ylabel('The True values')\n",
    "plt.title('CONFUSION MATRIX')\n",
    "plt.show()"
   ]
  },
  {
   "cell_type": "code",
   "execution_count": 35,
   "id": "a2112dfc",
   "metadata": {},
   "outputs": [],
   "source": [
    "# Classification report\n",
    "cr=metrics.classification_report(y_test,y_pred,target_names=['male','female'],output_dict=True)"
   ]
  },
  {
   "cell_type": "code",
   "execution_count": 36,
   "id": "cc27cead",
   "metadata": {},
   "outputs": [
    {
     "data": {
      "text/plain": [
       "{'male': {'precision': 0.7698412698412699,\n",
       "  'recall': 0.7404580152671756,\n",
       "  'f1-score': 0.754863813229572,\n",
       "  'support': 131},\n",
       " 'female': {'precision': 0.8357487922705314,\n",
       "  'recall': 0.8564356435643564,\n",
       "  'f1-score': 0.8459657701711492,\n",
       "  'support': 202},\n",
       " 'accuracy': 0.8108108108108109,\n",
       " 'macro avg': {'precision': 0.8027950310559007,\n",
       "  'recall': 0.7984468294157661,\n",
       "  'f1-score': 0.8004147917003606,\n",
       "  'support': 333},\n",
       " 'weighted avg': {'precision': 0.809821208371933,\n",
       "  'recall': 0.8108108108108109,\n",
       "  'f1-score': 0.8101268621851232,\n",
       "  'support': 333}}"
      ]
     },
     "execution_count": 36,
     "metadata": {},
     "output_type": "execute_result"
    }
   ],
   "source": [
    "cr"
   ]
  },
  {
   "cell_type": "code",
   "execution_count": 39,
   "id": "aa3c0178",
   "metadata": {},
   "outputs": [
    {
     "data": {
      "text/html": [
       "<div>\n",
       "<style scoped>\n",
       "    .dataframe tbody tr th:only-of-type {\n",
       "        vertical-align: middle;\n",
       "    }\n",
       "\n",
       "    .dataframe tbody tr th {\n",
       "        vertical-align: top;\n",
       "    }\n",
       "\n",
       "    .dataframe thead th {\n",
       "        text-align: right;\n",
       "    }\n",
       "</style>\n",
       "<table border=\"1\" class=\"dataframe\">\n",
       "  <thead>\n",
       "    <tr style=\"text-align: right;\">\n",
       "      <th></th>\n",
       "      <th>male</th>\n",
       "      <th>female</th>\n",
       "      <th>accuracy</th>\n",
       "      <th>macro avg</th>\n",
       "      <th>weighted avg</th>\n",
       "    </tr>\n",
       "  </thead>\n",
       "  <tbody>\n",
       "    <tr>\n",
       "      <th>precision</th>\n",
       "      <td>0.769841</td>\n",
       "      <td>0.835749</td>\n",
       "      <td>0.810811</td>\n",
       "      <td>0.802795</td>\n",
       "      <td>0.809821</td>\n",
       "    </tr>\n",
       "    <tr>\n",
       "      <th>recall</th>\n",
       "      <td>0.740458</td>\n",
       "      <td>0.856436</td>\n",
       "      <td>0.810811</td>\n",
       "      <td>0.798447</td>\n",
       "      <td>0.810811</td>\n",
       "    </tr>\n",
       "    <tr>\n",
       "      <th>f1-score</th>\n",
       "      <td>0.754864</td>\n",
       "      <td>0.845966</td>\n",
       "      <td>0.810811</td>\n",
       "      <td>0.800415</td>\n",
       "      <td>0.810127</td>\n",
       "    </tr>\n",
       "    <tr>\n",
       "      <th>support</th>\n",
       "      <td>131.000000</td>\n",
       "      <td>202.000000</td>\n",
       "      <td>0.810811</td>\n",
       "      <td>333.000000</td>\n",
       "      <td>333.000000</td>\n",
       "    </tr>\n",
       "  </tbody>\n",
       "</table>\n",
       "</div>"
      ],
      "text/plain": [
       "                 male      female  accuracy   macro avg  weighted avg\n",
       "precision    0.769841    0.835749  0.810811    0.802795      0.809821\n",
       "recall       0.740458    0.856436  0.810811    0.798447      0.810811\n",
       "f1-score     0.754864    0.845966  0.810811    0.800415      0.810127\n",
       "support    131.000000  202.000000  0.810811  333.000000    333.000000"
      ]
     },
     "execution_count": 39,
     "metadata": {},
     "output_type": "execute_result"
    }
   ],
   "source": [
    "pd.DataFrame(cr)"
   ]
  },
  {
   "cell_type": "code",
   "execution_count": 40,
   "id": "e0a83100",
   "metadata": {},
   "outputs": [
    {
     "data": {
      "text/html": [
       "<div>\n",
       "<style scoped>\n",
       "    .dataframe tbody tr th:only-of-type {\n",
       "        vertical-align: middle;\n",
       "    }\n",
       "\n",
       "    .dataframe tbody tr th {\n",
       "        vertical-align: top;\n",
       "    }\n",
       "\n",
       "    .dataframe thead th {\n",
       "        text-align: right;\n",
       "    }\n",
       "</style>\n",
       "<table border=\"1\" class=\"dataframe\">\n",
       "  <thead>\n",
       "    <tr style=\"text-align: right;\">\n",
       "      <th></th>\n",
       "      <th>precision</th>\n",
       "      <th>recall</th>\n",
       "      <th>f1-score</th>\n",
       "      <th>support</th>\n",
       "    </tr>\n",
       "  </thead>\n",
       "  <tbody>\n",
       "    <tr>\n",
       "      <th>male</th>\n",
       "      <td>0.769841</td>\n",
       "      <td>0.740458</td>\n",
       "      <td>0.754864</td>\n",
       "      <td>131.000000</td>\n",
       "    </tr>\n",
       "    <tr>\n",
       "      <th>female</th>\n",
       "      <td>0.835749</td>\n",
       "      <td>0.856436</td>\n",
       "      <td>0.845966</td>\n",
       "      <td>202.000000</td>\n",
       "    </tr>\n",
       "    <tr>\n",
       "      <th>accuracy</th>\n",
       "      <td>0.810811</td>\n",
       "      <td>0.810811</td>\n",
       "      <td>0.810811</td>\n",
       "      <td>0.810811</td>\n",
       "    </tr>\n",
       "    <tr>\n",
       "      <th>macro avg</th>\n",
       "      <td>0.802795</td>\n",
       "      <td>0.798447</td>\n",
       "      <td>0.800415</td>\n",
       "      <td>333.000000</td>\n",
       "    </tr>\n",
       "    <tr>\n",
       "      <th>weighted avg</th>\n",
       "      <td>0.809821</td>\n",
       "      <td>0.810811</td>\n",
       "      <td>0.810127</td>\n",
       "      <td>333.000000</td>\n",
       "    </tr>\n",
       "  </tbody>\n",
       "</table>\n",
       "</div>"
      ],
      "text/plain": [
       "              precision    recall  f1-score     support\n",
       "male           0.769841  0.740458  0.754864  131.000000\n",
       "female         0.835749  0.856436  0.845966  202.000000\n",
       "accuracy       0.810811  0.810811  0.810811    0.810811\n",
       "macro avg      0.802795  0.798447  0.800415  333.000000\n",
       "weighted avg   0.809821  0.810811  0.810127  333.000000"
      ]
     },
     "execution_count": 40,
     "metadata": {},
     "output_type": "execute_result"
    }
   ],
   "source": [
    "pd.DataFrame(cr).T"
   ]
  },
  {
   "cell_type": "code",
   "execution_count": 41,
   "id": "ac57629d",
   "metadata": {},
   "outputs": [
    {
     "data": {
      "text/plain": [
       "0.6009244992295839"
      ]
     },
     "execution_count": 41,
     "metadata": {},
     "output_type": "execute_result"
    }
   ],
   "source": [
    "# Kappa Score\n",
    "metrics.cohen_kappa_score(y_test,y_pred)"
   ]
  },
  {
   "cell_type": "code",
   "execution_count": 42,
   "id": "56f80323",
   "metadata": {},
   "outputs": [],
   "source": [
    "# ROC and AUC"
   ]
  },
  {
   "cell_type": "code",
   "execution_count": 43,
   "id": "ea803fa5",
   "metadata": {},
   "outputs": [],
   "source": [
    "# ROC for female\n",
    "fpr,tpr,thresh=metrics.roc_curve(y_test,y_prob[:,1])"
   ]
  },
  {
   "cell_type": "code",
   "execution_count": 55,
   "id": "66131d8b",
   "metadata": {},
   "outputs": [
    {
     "data": {
      "text/plain": [
       "Text(0.5, 1.0, 'Reciever Operating Characteristics')"
      ]
     },
     "execution_count": 55,
     "metadata": {},
     "output_type": "execute_result"
    },
    {
     "data": {
      "image/png": "[encoded data removed]",
      "text/plain": [
       "<Figure size 720x576 with 1 Axes>"
      ]
     },
     "metadata": {
      "needs_background": "light"
     },
     "output_type": "display_data"
    }
   ],
   "source": [
    "auc_s=metrics.auc(fpr,tpr)\n",
    "plt.figure(figsize=(10,8))\n",
    "plt.plot(fpr,tpr,'--')\n",
    "plt.plot([0,1],[0,1],'b--')\n",
    "for i in range(0,len(thresh),10):\n",
    "    plt.plot(fpr[i],tpr[i],'^')\n",
    "    plt.text(fpr[i],tpr[i],\"%0.3f\"%thresh[i])\n",
    "    \n",
    "plt.xlabel('False Positive Rate')\n",
    "plt.legend(['AUC Score= %0.2f'%auc_s])\n",
    "plt.ylabel('True Positive Rate')\n",
    "plt.title('Reciever Operating Characteristics')"
   ]
  },
  {
   "cell_type": "code",
   "execution_count": 56,
   "id": "a2e8f4fa",
   "metadata": {},
   "outputs": [],
   "source": [
    "#hyperparameter tuning"
   ]
  },
  {
   "cell_type": "code",
   "execution_count": 57,
   "id": "ff6302c9",
   "metadata": {},
   "outputs": [],
   "source": [
    "from sklearn.model_selection import GridSearchCV"
   ]
  },
  {
   "cell_type": "code",
   "execution_count": 58,
   "id": "72b2c8fe",
   "metadata": {},
   "outputs": [],
   "source": [
    "model_tune=SVC()"
   ]
  },
  {
   "cell_type": "code",
   "execution_count": 59,
   "id": "96de630b",
   "metadata": {},
   "outputs": [],
   "source": [
    "param_gr={'kernel':['rbf','poly'],\n",
    "         'C':[1,10,20,30,50,100],\n",
    "         'gamma':[0.1,0.2,0.01,0.001,0.002,0.003,0.005,0.05],\n",
    "         'coef0':[0,1]}"
   ]
  },
  {
   "cell_type": "code",
   "execution_count": 60,
   "id": "c65813d1",
   "metadata": {},
   "outputs": [],
   "source": [
    "model_grid=GridSearchCV(model_tune,param_grid=param_gr,scoring='accuracy',cv=5,verbose=1)"
   ]
  },
  {
   "cell_type": "code",
   "execution_count": 61,
   "id": "fac26254",
   "metadata": {},
   "outputs": [
    {
     "name": "stdout",
     "output_type": "stream",
     "text": [
      "Fitting 5 folds for each of 192 candidates, totalling 960 fits\n"
     ]
    },
    {
     "name": "stderr",
     "output_type": "stream",
     "text": [
      "[Parallel(n_jobs=1)]: Using backend SequentialBackend with 1 concurrent workers.\n",
      "[Parallel(n_jobs=1)]: Done 960 out of 960 | elapsed:  1.8min finished\n"
     ]
    },
    {
     "data": {
      "text/plain": [
       "GridSearchCV(cv=5, estimator=SVC(),\n",
       "             param_grid={'C': [1, 10, 20, 30, 50, 100], 'coef0': [0, 1],\n",
       "                         'gamma': [0.1, 0.2, 0.01, 0.001, 0.002, 0.003, 0.005,\n",
       "                                   0.05],\n",
       "                         'kernel': ['rbf', 'poly']},\n",
       "             scoring='accuracy', verbose=1)"
      ]
     },
     "execution_count": 61,
     "metadata": {},
     "output_type": "execute_result"
    }
   ],
   "source": [
    "model_grid.fit(X,y)"
   ]
  },
  {
   "cell_type": "code",
   "execution_count": 62,
   "id": "a14f06d1",
   "metadata": {},
   "outputs": [
    {
     "data": {
      "text/plain": [
       "21"
      ]
     },
     "execution_count": 62,
     "metadata": {},
     "output_type": "execute_result"
    }
   ],
   "source": [
    "model_grid.best_index_"
   ]
  },
  {
   "cell_type": "code",
   "execution_count": 63,
   "id": "046dfed3",
   "metadata": {},
   "outputs": [
    {
     "data": {
      "text/plain": [
       "{'C': 1, 'coef0': 1, 'gamma': 0.01, 'kernel': 'poly'}"
      ]
     },
     "execution_count": 63,
     "metadata": {},
     "output_type": "execute_result"
    }
   ],
   "source": [
    "model_grid.best_params_"
   ]
  },
  {
   "cell_type": "code",
   "execution_count": 65,
   "id": "6c45c98c",
   "metadata": {},
   "outputs": [
    {
     "data": {
      "text/plain": [
       "0.8212959947899707"
      ]
     },
     "execution_count": 65,
     "metadata": {},
     "output_type": "execute_result"
    }
   ],
   "source": [
    "model_grid.best_score_"
   ]
  },
  {
   "cell_type": "code",
   "execution_count": 69,
   "id": "eb2cd989",
   "metadata": {},
   "outputs": [],
   "source": [
    "model_best=SVC(C=1,kernel='poly',gamma=0.01,coef0=1,probability=True)"
   ]
  },
  {
   "cell_type": "code",
   "execution_count": 70,
   "id": "a8bd0c0e",
   "metadata": {},
   "outputs": [
    {
     "data": {
      "text/plain": [
       "SVC(C=1, coef0=1, gamma=0.01, kernel='poly', probability=True)"
      ]
     },
     "execution_count": 70,
     "metadata": {},
     "output_type": "execute_result"
    }
   ],
   "source": [
    "model_best.fit(x_train,y_train)"
   ]
  },
  {
   "cell_type": "code",
   "execution_count": 71,
   "id": "f835342b",
   "metadata": {},
   "outputs": [
    {
     "data": {
      "text/plain": [
       "0.8138138138138138"
      ]
     },
     "execution_count": 71,
     "metadata": {},
     "output_type": "execute_result"
    }
   ],
   "source": [
    "model_best.score(x_test,y_test)"
   ]
  },
  {
   "cell_type": "code",
   "execution_count": 75,
   "id": "942db7d4",
   "metadata": {},
   "outputs": [],
   "source": [
    "y_pred=model_best.predict(x_test)\n",
    "y_prob=model_best.predict_proba(x_test) #probability"
   ]
  },
  {
   "cell_type": "code",
   "execution_count": 76,
   "id": "8743287a",
   "metadata": {},
   "outputs": [
    {
     "data": {
      "text/plain": [
       "0.6077887537993921"
      ]
     },
     "execution_count": 76,
     "metadata": {},
     "output_type": "execute_result"
    }
   ],
   "source": [
    "metrics.cohen_kappa_score(y_test,y_pred)"
   ]
  },
  {
   "cell_type": "code",
   "execution_count": null,
   "id": "d82a64be",
   "metadata": {},
   "outputs": [],
   "source": []
  },
  {
   "cell_type": "code",
   "execution_count": 77,
   "id": "c46521f4",
   "metadata": {},
   "outputs": [
    {
     "data": {
      "text/plain": [
       "Text(0.5, 1.0, 'Reciever Operating Characteristics')"
      ]
     },
     "execution_count": 77,
     "metadata": {},
     "output_type": "execute_result"
    },
    {
     "data": {
      "image/png": "[encoded data removed]",
      "text/plain": [
       "<Figure size 720x576 with 1 Axes>"
      ]
     },
     "metadata": {
      "needs_background": "light"
     },
     "output_type": "display_data"
    }
   ],
   "source": [
    "fpr,tpr,thresh=metrics.roc_curve(y_test,y_prob[:,1])\n",
    "auc_s=metrics.auc(fpr,tpr)\n",
    "plt.figure(figsize=(10,8))\n",
    "plt.plot(fpr,tpr,'--')\n",
    "plt.plot([0,1],[0,1],'b--')\n",
    "for i in range(0,len(thresh),10):\n",
    "    plt.plot(fpr[i],tpr[i],'^')\n",
    "    plt.text(fpr[i],tpr[i],\"%0.3f\"%thresh[i])\n",
    "    \n",
    "plt.xlabel('False Positive Rate')\n",
    "plt.legend(['AUC Score= %0.2f'%auc_s])\n",
    "plt.ylabel('True Positive Rate')\n",
    "plt.title('Reciever Operating Characteristics')"
   ]
  },
  {
   "cell_type": "code",
   "execution_count": 78,
   "id": "9b3c274c",
   "metadata": {},
   "outputs": [],
   "source": [
    "# Saving our model in pickle format\n",
    "import pickle\n"
   ]
  },
  {
   "cell_type": "code",
   "execution_count": 79,
   "id": "69c7ef0b",
   "metadata": {},
   "outputs": [],
   "source": [
    "pickle.dump(model_best,open('model_svm.pickle','wb'))"
   ]
  },
  {
   "cell_type": "code",
   "execution_count": 80,
   "id": "177d3384",
   "metadata": {},
   "outputs": [],
   "source": [
    "pickle.dump(mean,open('./model/mean_preprocess.pickle','wb'))"
   ]
  },
  {
   "cell_type": "code",
   "execution_count": null,
   "id": "638f86a2",
   "metadata": {},
   "outputs": [],
   "source": []
  }
 ],
 "metadata": {
  "kernelspec": {
   "display_name": "Python 3.7.3 64-bit ('base': conda)",
   "language": "python",
   "name": "python37364bitbaseconda971ba31e63c548448c452f11cdbbc5de"
  },
  "language_info": {
   "codemirror_mode": {
    "name": "ipython",
    "version": 3
   },
   "file_extension": ".py",
   "mimetype": "text/x-python",
   "name": "python",
   "nbconvert_exporter": "python",
   "pygments_lexer": "ipython3",
   "version": "3.8.3"
  }
 },
 "nbformat": 4,
 "nbformat_minor": 5
}
